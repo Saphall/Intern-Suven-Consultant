{
  "nbformat": 4,
  "nbformat_minor": 0,
  "metadata": {
    "colab": {
      "name": "Recognizing Handwritten Digits with scikit-learn.ipynb",
      "provenance": [],
      "collapsed_sections": [],
      "authorship_tag": "ABX9TyMjLXTof/+pUCmOv/I5m6OI",
      "include_colab_link": true
    },
    "kernelspec": {
      "name": "python3",
      "display_name": "Python 3"
    }
  },
  "cells": [
    {
      "cell_type": "markdown",
      "metadata": {
        "id": "view-in-github",
        "colab_type": "text"
      },
      "source": [
        "<a href=\"https://colab.research.google.com/github/Saphall/Intern-Suven-Consultant/blob/main/Recognizing_Handwritten_Digits_with_scikit_learn.ipynb\" target=\"_parent\"><img src=\"https://colab.research.google.com/assets/colab-badge.svg\" alt=\"Open In Colab\"/></a>"
      ]
    },
    {
      "cell_type": "markdown",
      "metadata": {
        "id": "5bReCVr8uWtp"
      },
      "source": [
        "Importing necessary libraries"
      ]
    },
    {
      "cell_type": "code",
      "metadata": {
        "id": "q0dckidaoamp"
      },
      "source": [
        "import pandas as pd \n",
        "import numpy as np\n",
        "import matplotlib.pyplot as plt\n",
        "from sklearn import svm "
      ],
      "execution_count": 158,
      "outputs": []
    },
    {
      "cell_type": "markdown",
      "metadata": {
        "id": "scpt5k-Puc8p"
      },
      "source": [
        "Importing dataset form scikitlearn datasets"
      ]
    },
    {
      "cell_type": "code",
      "metadata": {
        "id": "eA0Ilfs-pojf"
      },
      "source": [
        "from sklearn import datasets\n",
        "digits = datasets.load_digits()"
      ],
      "execution_count": 2,
      "outputs": []
    },
    {
      "cell_type": "markdown",
      "metadata": {
        "id": "RgY9vnR-uiJ6"
      },
      "source": [
        "Lets read datatest description"
      ]
    },
    {
      "cell_type": "code",
      "metadata": {
        "id": "TetwbnQUpxb_",
        "outputId": "837ad672-d4db-4a7c-a579-9fe1abbafcf7",
        "colab": {
          "base_uri": "https://localhost:8080/",
          "height": 799
        }
      },
      "source": [
        "print(digits.DESCR)"
      ],
      "execution_count": 3,
      "outputs": [
        {
          "output_type": "stream",
          "text": [
            ".. _digits_dataset:\n",
            "\n",
            "Optical recognition of handwritten digits dataset\n",
            "--------------------------------------------------\n",
            "\n",
            "**Data Set Characteristics:**\n",
            "\n",
            "    :Number of Instances: 5620\n",
            "    :Number of Attributes: 64\n",
            "    :Attribute Information: 8x8 image of integer pixels in the range 0..16.\n",
            "    :Missing Attribute Values: None\n",
            "    :Creator: E. Alpaydin (alpaydin '@' boun.edu.tr)\n",
            "    :Date: July; 1998\n",
            "\n",
            "This is a copy of the test set of the UCI ML hand-written digits datasets\n",
            "https://archive.ics.uci.edu/ml/datasets/Optical+Recognition+of+Handwritten+Digits\n",
            "\n",
            "The data set contains images of hand-written digits: 10 classes where\n",
            "each class refers to a digit.\n",
            "\n",
            "Preprocessing programs made available by NIST were used to extract\n",
            "normalized bitmaps of handwritten digits from a preprinted form. From a\n",
            "total of 43 people, 30 contributed to the training set and different 13\n",
            "to the test set. 32x32 bitmaps are divided into nonoverlapping blocks of\n",
            "4x4 and the number of on pixels are counted in each block. This generates\n",
            "an input matrix of 8x8 where each element is an integer in the range\n",
            "0..16. This reduces dimensionality and gives invariance to small\n",
            "distortions.\n",
            "\n",
            "For info on NIST preprocessing routines, see M. D. Garris, J. L. Blue, G.\n",
            "T. Candela, D. L. Dimmick, J. Geist, P. J. Grother, S. A. Janet, and C.\n",
            "L. Wilson, NIST Form-Based Handprint Recognition System, NISTIR 5469,\n",
            "1994.\n",
            "\n",
            ".. topic:: References\n",
            "\n",
            "  - C. Kaynak (1995) Methods of Combining Multiple Classifiers and Their\n",
            "    Applications to Handwritten Digit Recognition, MSc Thesis, Institute of\n",
            "    Graduate Studies in Science and Engineering, Bogazici University.\n",
            "  - E. Alpaydin, C. Kaynak (1998) Cascading Classifiers, Kybernetika.\n",
            "  - Ken Tang and Ponnuthurai N. Suganthan and Xi Yao and A. Kai Qin.\n",
            "    Linear dimensionalityreduction using relevance weighted LDA. School of\n",
            "    Electrical and Electronic Engineering Nanyang Technological University.\n",
            "    2005.\n",
            "  - Claudio Gentile. A New Approximate Maximal Margin Classification\n",
            "    Algorithm. NIPS. 2000.\n"
          ],
          "name": "stdout"
        }
      ]
    },
    {
      "cell_type": "markdown",
      "metadata": {
        "id": "qhMrj9n0uAsN"
      },
      "source": [
        "Images of handwritten digits are contained in (digits.images) array. Each element of this array is represented by 8x8 matrix of numeric values."
      ]
    },
    {
      "cell_type": "code",
      "metadata": {
        "id": "DvXcO-TWp0TY",
        "outputId": "273cee6c-d4ff-4f95-cf9b-a498310e6593",
        "colab": {
          "base_uri": "https://localhost:8080/",
          "height": 153
        }
      },
      "source": [
        "digits.images[0]"
      ],
      "execution_count": 4,
      "outputs": [
        {
          "output_type": "execute_result",
          "data": {
            "text/plain": [
              "array([[ 0.,  0.,  5., 13.,  9.,  1.,  0.,  0.],\n",
              "       [ 0.,  0., 13., 15., 10., 15.,  5.,  0.],\n",
              "       [ 0.,  3., 15.,  2.,  0., 11.,  8.,  0.],\n",
              "       [ 0.,  4., 12.,  0.,  0.,  8.,  8.,  0.],\n",
              "       [ 0.,  5.,  8.,  0.,  0.,  9.,  8.,  0.],\n",
              "       [ 0.,  4., 11.,  0.,  1., 12.,  7.,  0.],\n",
              "       [ 0.,  2., 14.,  5., 10., 12.,  0.,  0.],\n",
              "       [ 0.,  0.,  6., 13., 10.,  0.,  0.,  0.]])"
            ]
          },
          "metadata": {
            "tags": []
          },
          "execution_count": 4
        }
      ]
    },
    {
      "cell_type": "markdown",
      "metadata": {
        "id": "A1priijeuwuB"
      },
      "source": [
        "Visualize the digit with matplotlib"
      ]
    },
    {
      "cell_type": "code",
      "metadata": {
        "id": "LcuruG34qAiH",
        "outputId": "3b0820f3-62d9-49a2-933a-d72b55fcc288",
        "colab": {
          "base_uri": "https://localhost:8080/",
          "height": 265
        }
      },
      "source": [
        "import matplotlib.pyplot as plt\n",
        "%matplotlib inline\n",
        "plt.imshow(digits.images[0],cmap=plt.cm.gray_r,interpolation = 'nearest');"
      ],
      "execution_count": 5,
      "outputs": [
        {
          "output_type": "display_data",
          "data": {
            "image/png": "[encoded data removed]",
            "text/plain": [
              "<Figure size 432x288 with 1 Axes>"
            ]
          },
          "metadata": {
            "tags": [],
            "needs_background": "light"
          }
        }
      ]
    },
    {
      "cell_type": "markdown",
      "metadata": {
        "id": "L6Mx5XJMu6Rp"
      },
      "source": [
        "Target values of all these images"
      ]
    },
    {
      "cell_type": "code",
      "metadata": {
        "id": "ZGq-0uBrqMs_",
        "outputId": "95109aff-8822-4ca2-8959-5c888d712e27",
        "colab": {
          "base_uri": "https://localhost:8080/",
          "height": 34
        }
      },
      "source": [
        "digits.target"
      ],
      "execution_count": 6,
      "outputs": [
        {
          "output_type": "execute_result",
          "data": {
            "text/plain": [
              "array([0, 1, 2, ..., 8, 9, 8])"
            ]
          },
          "metadata": {
            "tags": []
          },
          "execution_count": 6
        }
      ]
    },
    {
      "cell_type": "code",
      "metadata": {
        "id": "bcKYjbnBqX1m",
        "outputId": "4adfc807-58c2-4f61-a0bc-aa952f5998a2",
        "colab": {
          "base_uri": "https://localhost:8080/",
          "height": 34
        }
      },
      "source": [
        "digits.target.size"
      ],
      "execution_count": 7,
      "outputs": [
        {
          "output_type": "execute_result",
          "data": {
            "text/plain": [
              "1797"
            ]
          },
          "metadata": {
            "tags": []
          },
          "execution_count": 7
        }
      ]
    },
    {
      "cell_type": "markdown",
      "metadata": {
        "id": "6NaR4uKTvdbk"
      },
      "source": [
        "# **Condition 1:**\n",
        "* Select first 1791 elements as training set and **last 6 digits as testing set.**"
      ]
    },
    {
      "cell_type": "markdown",
      "metadata": {
        "id": "TjGsY0Slq-Xx"
      },
      "source": [
        "Lets separate the training sets"
      ]
    },
    {
      "cell_type": "code",
      "metadata": {
        "id": "oMyX080asw4W"
      },
      "source": [
        "X_train = digits.data[1:1790]\n",
        "y_train = digits.target[1:1790]\n"
      ],
      "execution_count": 8,
      "outputs": []
    },
    {
      "cell_type": "markdown",
      "metadata": {
        "id": "G23wEaTtxre3"
      },
      "source": [
        "Let's see the testing set from index 1791 to 1797."
      ]
    },
    {
      "cell_type": "code",
      "metadata": {
        "id": "tw4GYChfxllv",
        "outputId": "8cd17750-32a7-482a-8968-de0cbabb3899",
        "colab": {
          "base_uri": "https://localhost:8080/",
          "height": 265
        }
      },
      "source": [
        "#visulaize validation set\n",
        "import matplotlib.pyplot as plt\n",
        "%matplotlib inline\n",
        "no=1791\n",
        "for i in range(321,327):\n",
        "  plt.subplot(i)\n",
        "  plt.imshow(digits.images[no],cmap=plt.cm.gray_r,\n",
        "             interpolation='nearest')\n",
        "  no+=1\n"
      ],
      "execution_count": 9,
      "outputs": [
        {
          "output_type": "display_data",
          "data": {
            "image/png": "[encoded data removed]",
            "text/plain": [
              "<Figure size 432x288 with 6 Axes>"
            ]
          },
          "metadata": {
            "tags": [],
            "needs_background": "light"
          }
        }
      ]
    },
    {
      "cell_type": "markdown",
      "metadata": {
        "id": "WLvWm6KZwHi1"
      },
      "source": [
        "**Choose Our Model:**\n",
        "\n",
        "**(Support Vector Machines(svm))**"
      ]
    },
    {
      "cell_type": "code",
      "metadata": {
        "id": "k4fpRGKLvHjx"
      },
      "source": [
        "model = svm.SVC(gamma = 0.001 , C =100.)"
      ],
      "execution_count": 10,
      "outputs": []
    },
    {
      "cell_type": "markdown",
      "metadata": {
        "id": "xSzT3xjEwUfh"
      },
      "source": [
        "Let's fit in ourmodel"
      ]
    },
    {
      "cell_type": "code",
      "metadata": {
        "id": "V0fz74Azs88d",
        "outputId": "fd7f1981-196a-4ddf-a6e5-d5fa86d277e9",
        "colab": {
          "base_uri": "https://localhost:8080/",
          "height": 85
        }
      },
      "source": [
        "model.fit(X_train,y_train)"
      ],
      "execution_count": 11,
      "outputs": [
        {
          "output_type": "execute_result",
          "data": {
            "text/plain": [
              "SVC(C=100.0, break_ties=False, cache_size=200, class_weight=None, coef0=0.0,\n",
              "    decision_function_shape='ovr', degree=3, gamma=0.001, kernel='rbf',\n",
              "    max_iter=-1, probability=False, random_state=None, shrinking=True,\n",
              "    tol=0.001, verbose=False)"
            ]
          },
          "metadata": {
            "tags": []
          },
          "execution_count": 11
        }
      ]
    },
    {
      "cell_type": "markdown",
      "metadata": {
        "id": "bNaMiXJntBCP"
      },
      "source": [
        "Let's predict in our validation set"
      ]
    },
    {
      "cell_type": "code",
      "metadata": {
        "id": "Rlm5Z5C6tTaL",
        "outputId": "f2cf0822-8f51-444c-8d0f-c21ab9c7ee92",
        "colab": {
          "base_uri": "https://localhost:8080/",
          "height": 34
        }
      },
      "source": [
        "model.predict(digits.data[1791:1796])"
      ],
      "execution_count": 12,
      "outputs": [
        {
          "output_type": "execute_result",
          "data": {
            "text/plain": [
              "array([4, 9, 0, 8, 9])"
            ]
          },
          "metadata": {
            "tags": []
          },
          "execution_count": 12
        }
      ]
    },
    {
      "cell_type": "code",
      "metadata": {
        "id": "okrcs5wRtZrd",
        "outputId": "4e338fd9-0249-4346-e904-53875963a2e9",
        "colab": {
          "base_uri": "https://localhost:8080/",
          "height": 34
        }
      },
      "source": [
        "digits.target[1791:1796]"
      ],
      "execution_count": 13,
      "outputs": [
        {
          "output_type": "execute_result",
          "data": {
            "text/plain": [
              "array([4, 9, 0, 8, 9])"
            ]
          },
          "metadata": {
            "tags": []
          },
          "execution_count": 13
        }
      ]
    },
    {
      "cell_type": "code",
      "metadata": {
        "id": "l4JD88NH2dXk",
        "outputId": "6efaa8e0-09a4-4d55-a871-ba60193c3d0d",
        "colab": {
          "base_uri": "https://localhost:8080/",
          "height": 34
        }
      },
      "source": [
        "print(f\"Model accuracy:{model.score(digits.data[1791:1796],digits.target[1791:1796])*100:.2f}%\")"
      ],
      "execution_count": 14,
      "outputs": [
        {
          "output_type": "stream",
          "text": [
            "Model accuracy:100.00%\n"
          ],
          "name": "stdout"
        }
      ]
    },
    {
      "cell_type": "markdown",
      "metadata": {
        "id": "mYzJAtGIthxd"
      },
      "source": [
        "It predicted all the validation set correctly.\n",
        "\n",
        "**Well 100% accuracy is a great thing. But let's check how our model does with different number of training and testing data.**"
      ]
    },
    {
      "cell_type": "markdown",
      "metadata": {
        "id": "EELjEMHCtn4f"
      },
      "source": [
        "# **Condition 2:**\n",
        "* Lets separate data-set with **80% of training data** and  **20 % of testing data.**"
      ]
    },
    {
      "cell_type": "code",
      "metadata": {
        "id": "1o1tReLTyWfi"
      },
      "source": [
        "from sklearn.model_selection import train_test_split"
      ],
      "execution_count": 15,
      "outputs": []
    },
    {
      "cell_type": "code",
      "metadata": {
        "id": "_tE1t2bAytqF"
      },
      "source": [
        "X_train,X_test,y_train,y_test = train_test_split(digits.data,digits.target,test_size=0.2)"
      ],
      "execution_count": 16,
      "outputs": []
    },
    {
      "cell_type": "markdown",
      "metadata": {
        "id": "gjHq8zcJ2pXo"
      },
      "source": [
        "**Our Model:**\n",
        "\n",
        "**(Support Vector Machines(svm))**"
      ]
    },
    {
      "cell_type": "code",
      "metadata": {
        "id": "45jxEr212_Py"
      },
      "source": [
        "from sklearn import svm\n",
        "model = svm.SVC(gamma=0.001,C=100.)"
      ],
      "execution_count": 17,
      "outputs": []
    },
    {
      "cell_type": "code",
      "metadata": {
        "id": "mfS_mFVM01cI",
        "outputId": "7784550b-63fa-449d-83c1-10083b9e57c6",
        "colab": {
          "base_uri": "https://localhost:8080/",
          "height": 85
        }
      },
      "source": [
        "# Fiting the model\n",
        "model.fit(X_train,y_train)"
      ],
      "execution_count": 18,
      "outputs": [
        {
          "output_type": "execute_result",
          "data": {
            "text/plain": [
              "SVC(C=100.0, break_ties=False, cache_size=200, class_weight=None, coef0=0.0,\n",
              "    decision_function_shape='ovr', degree=3, gamma=0.001, kernel='rbf',\n",
              "    max_iter=-1, probability=False, random_state=None, shrinking=True,\n",
              "    tol=0.001, verbose=False)"
            ]
          },
          "metadata": {
            "tags": []
          },
          "execution_count": 18
        }
      ]
    },
    {
      "cell_type": "code",
      "metadata": {
        "id": "QOU9LU2406tx",
        "outputId": "a739e51b-9b01-46a3-afee-9981c10ba791",
        "colab": {
          "base_uri": "https://localhost:8080/",
          "height": 306
        }
      },
      "source": [
        "# predicted values\n",
        "model.predict(X_test)"
      ],
      "execution_count": 19,
      "outputs": [
        {
          "output_type": "execute_result",
          "data": {
            "text/plain": [
              "array([3, 3, 2, 8, 9, 5, 3, 5, 9, 0, 3, 4, 8, 4, 0, 8, 6, 2, 3, 4, 8, 0,\n",
              "       3, 9, 6, 4, 9, 0, 9, 1, 3, 6, 9, 1, 5, 2, 3, 6, 1, 2, 2, 3, 4, 3,\n",
              "       2, 8, 7, 1, 4, 7, 9, 5, 9, 6, 6, 2, 9, 5, 2, 7, 2, 3, 7, 8, 0, 7,\n",
              "       5, 3, 2, 5, 0, 2, 9, 4, 4, 4, 0, 3, 0, 5, 5, 4, 6, 2, 1, 9, 4, 1,\n",
              "       6, 2, 9, 2, 3, 7, 1, 6, 4, 0, 4, 5, 5, 4, 4, 2, 6, 1, 5, 8, 8, 0,\n",
              "       6, 6, 2, 2, 4, 8, 1, 9, 8, 4, 5, 1, 4, 2, 0, 7, 2, 3, 7, 0, 8, 9,\n",
              "       6, 7, 8, 3, 8, 6, 0, 5, 5, 6, 6, 4, 1, 3, 5, 6, 8, 5, 7, 2, 8, 5,\n",
              "       9, 8, 4, 7, 7, 6, 4, 9, 5, 0, 6, 7, 4, 8, 7, 1, 1, 3, 9, 1, 1, 8,\n",
              "       8, 0, 0, 8, 2, 6, 3, 3, 8, 9, 2, 9, 6, 9, 3, 7, 5, 8, 9, 1, 8, 8,\n",
              "       8, 6, 1, 9, 4, 1, 8, 5, 2, 3, 5, 8, 0, 4, 9, 6, 0, 2, 2, 3, 0, 6,\n",
              "       2, 0, 2, 7, 4, 7, 7, 9, 7, 8, 0, 7, 1, 9, 6, 8, 8, 7, 6, 6, 1, 6,\n",
              "       1, 3, 2, 6, 6, 0, 1, 4, 5, 3, 7, 9, 3, 0, 2, 7, 8, 4, 0, 2, 4, 5,\n",
              "       4, 3, 5, 1, 7, 5, 0, 3, 3, 4, 7, 3, 0, 7, 5, 8, 0, 3, 0, 2, 8, 4,\n",
              "       2, 8, 4, 7, 6, 2, 8, 5, 9, 5, 9, 6, 9, 8, 8, 5, 5, 2, 0, 1, 2, 7,\n",
              "       4, 2, 3, 9, 0, 5, 2, 4, 0, 8, 9, 9, 2, 9, 9, 8, 2, 2, 4, 4, 0, 8,\n",
              "       5, 8, 9, 9, 6, 8, 4, 8, 1, 2, 8, 3, 4, 7, 8, 2, 7, 6, 5, 9, 9, 6,\n",
              "       6, 9, 6, 8, 4, 6, 5, 1])"
            ]
          },
          "metadata": {
            "tags": []
          },
          "execution_count": 19
        }
      ]
    },
    {
      "cell_type": "code",
      "metadata": {
        "id": "8ytBF-Wz1Hhj",
        "outputId": "4ac5bbcd-f0f5-49dc-fa62-c031963a29cf",
        "colab": {
          "base_uri": "https://localhost:8080/",
          "height": 306
        }
      },
      "source": [
        "# Actual values\n",
        "y_test"
      ],
      "execution_count": 20,
      "outputs": [
        {
          "output_type": "execute_result",
          "data": {
            "text/plain": [
              "array([3, 3, 2, 8, 9, 5, 3, 5, 9, 0, 3, 4, 8, 4, 0, 8, 6, 2, 3, 4, 8, 0,\n",
              "       3, 9, 6, 4, 9, 0, 9, 1, 3, 6, 9, 1, 5, 2, 3, 6, 1, 2, 2, 3, 4, 3,\n",
              "       2, 8, 7, 1, 4, 7, 9, 5, 9, 6, 6, 2, 9, 5, 2, 7, 2, 3, 7, 8, 0, 7,\n",
              "       5, 3, 2, 5, 0, 2, 9, 4, 4, 4, 0, 3, 0, 5, 5, 4, 6, 2, 1, 9, 4, 1,\n",
              "       6, 2, 9, 2, 3, 7, 1, 6, 4, 0, 4, 9, 5, 4, 4, 2, 6, 1, 5, 8, 8, 0,\n",
              "       6, 6, 2, 2, 4, 8, 1, 9, 8, 4, 5, 1, 4, 2, 0, 7, 2, 3, 7, 0, 8, 9,\n",
              "       6, 7, 8, 3, 8, 6, 0, 5, 5, 6, 6, 4, 1, 3, 5, 6, 8, 5, 7, 2, 8, 5,\n",
              "       9, 8, 4, 7, 7, 6, 4, 9, 5, 0, 6, 7, 4, 8, 7, 1, 1, 3, 9, 1, 1, 8,\n",
              "       8, 0, 0, 8, 2, 6, 3, 3, 8, 3, 2, 9, 6, 9, 3, 7, 5, 8, 9, 1, 8, 8,\n",
              "       8, 6, 1, 9, 4, 1, 8, 5, 2, 3, 5, 8, 0, 4, 9, 6, 0, 2, 2, 3, 0, 6,\n",
              "       2, 0, 2, 7, 4, 7, 7, 9, 7, 8, 0, 7, 1, 9, 6, 8, 8, 7, 6, 6, 1, 6,\n",
              "       1, 3, 2, 6, 6, 0, 1, 4, 9, 3, 7, 9, 3, 0, 2, 7, 8, 4, 0, 2, 4, 5,\n",
              "       4, 3, 5, 1, 7, 5, 0, 3, 3, 4, 7, 3, 0, 7, 5, 8, 0, 3, 0, 2, 8, 4,\n",
              "       2, 8, 4, 7, 6, 2, 8, 5, 9, 5, 9, 6, 9, 8, 8, 5, 5, 2, 0, 1, 2, 7,\n",
              "       4, 2, 3, 9, 0, 5, 2, 4, 0, 8, 9, 9, 2, 7, 9, 8, 2, 2, 4, 4, 0, 8,\n",
              "       5, 8, 9, 9, 6, 8, 4, 9, 1, 2, 8, 3, 4, 7, 8, 2, 7, 6, 5, 9, 9, 6,\n",
              "       6, 9, 6, 8, 4, 6, 5, 1])"
            ]
          },
          "metadata": {
            "tags": []
          },
          "execution_count": 20
        }
      ]
    },
    {
      "cell_type": "code",
      "metadata": {
        "id": "me7cxZeT1Ihx",
        "outputId": "3bc579fc-e88e-42b2-bf99-d4b0eda928b3",
        "colab": {
          "base_uri": "https://localhost:8080/",
          "height": 34
        }
      },
      "source": [
        "print(f\"Model accuracy: {model.score(X_test,y_test) * 100:.2f}%\")"
      ],
      "execution_count": 21,
      "outputs": [
        {
          "output_type": "stream",
          "text": [
            "Model accuracy: 98.61%\n"
          ],
          "name": "stdout"
        }
      ]
    },
    {
      "cell_type": "markdown",
      "metadata": {
        "id": "nXIvbYT73oW0"
      },
      "source": [
        "Here, the accuracy of our model decreased from 100% to 98.61% after we gave 80% data as training data and 20% data as testing data.\n",
        "\n",
        "**Clearly, this shows we cannot train our model with large amount of training datas. This can result in overfitting.**"
      ]
    },
    {
      "cell_type": "markdown",
      "metadata": {
        "id": "ixyG7GOO1Rol"
      },
      "source": [
        "Let's furthur analyze our model from **cross validation:**"
      ]
    },
    {
      "cell_type": "code",
      "metadata": {
        "id": "IA4VYgMM4GnX"
      },
      "source": [
        "from sklearn.model_selection import cross_val_score"
      ],
      "execution_count": 22,
      "outputs": []
    },
    {
      "cell_type": "code",
      "metadata": {
        "id": "UUpPzSiJ5KLJ",
        "outputId": "63a8191d-679d-41b6-818f-de602b4b1baf",
        "colab": {
          "base_uri": "https://localhost:8080/",
          "height": 34
        }
      },
      "source": [
        "cross_val_score(model,X_test,y_test,cv=5)\n"
      ],
      "execution_count": 23,
      "outputs": [
        {
          "output_type": "execute_result",
          "data": {
            "text/plain": [
              "array([0.98611111, 1.        , 0.98611111, 0.98611111, 0.97222222])"
            ]
          },
          "metadata": {
            "tags": []
          },
          "execution_count": 23
        }
      ]
    },
    {
      "cell_type": "code",
      "metadata": {
        "id": "tIm3edow5PGn",
        "outputId": "de725291-9db2-4469-df64-d7d3ef54543f",
        "colab": {
          "base_uri": "https://localhost:8080/",
          "height": 34
        }
      },
      "source": [
        "print(f'Average accuracy obtained from our model: {np.mean(cross_val_score(model,X_test,y_test,cv=5))*100:.2f}%')"
      ],
      "execution_count": 24,
      "outputs": [
        {
          "output_type": "stream",
          "text": [
            "Average accuracy obtained from our model: 98.61%\n"
          ],
          "name": "stdout"
        }
      ]
    },
    {
      "cell_type": "markdown",
      "metadata": {
        "id": "dxKwApoA5lyI"
      },
      "source": [
        "**This concludes our model is 98.61 % accurate in general  and not 100% accurate as condition 1!** "
      ]
    },
    {
      "cell_type": "markdown",
      "metadata": {
        "id": "3KOcBg3I6CPm"
      },
      "source": [
        "# **Condition 3:**\n",
        "* Lets further separate our data-set with **30% of training data** and  **70 % of testing data.**"
      ]
    },
    {
      "cell_type": "code",
      "metadata": {
        "id": "TJc6v0zj8oJU"
      },
      "source": [
        "from sklearn.model_selection import train_test_split\n",
        "X_train,X_test,y_train,y_test = train_test_split(digits.data,digits.target,test_size=0.7)"
      ],
      "execution_count": 110,
      "outputs": []
    },
    {
      "cell_type": "markdown",
      "metadata": {
        "id": "nVbZ7iv_9sU4"
      },
      "source": [
        "**Our Model:**\n",
        "\n",
        "**(Support Vector Machines(svm))**"
      ]
    },
    {
      "cell_type": "code",
      "metadata": {
        "id": "aroAkGfg93nc"
      },
      "source": [
        "from sklearn import svm\n",
        "model = svm.SVC(gamma=0.001,C=100.,random_state=100)"
      ],
      "execution_count": 126,
      "outputs": []
    },
    {
      "cell_type": "code",
      "metadata": {
        "id": "8KmbxAYl967E",
        "outputId": "2e79f6ae-7e32-4732-e4bf-abba28932991",
        "colab": {
          "base_uri": "https://localhost:8080/",
          "height": 85
        }
      },
      "source": [
        "# Fiting the model\n",
        "model.fit(X_train,y_train)"
      ],
      "execution_count": 127,
      "outputs": [
        {
          "output_type": "execute_result",
          "data": {
            "text/plain": [
              "SVC(C=100.0, break_ties=False, cache_size=200, class_weight=None, coef0=0.0,\n",
              "    decision_function_shape='ovr', degree=3, gamma=0.001, kernel='rbf',\n",
              "    max_iter=-1, probability=False, random_state=100, shrinking=True, tol=0.001,\n",
              "    verbose=False)"
            ]
          },
          "metadata": {
            "tags": []
          },
          "execution_count": 127
        }
      ]
    },
    {
      "cell_type": "code",
      "metadata": {
        "id": "IeXIK2Wi9-wE",
        "outputId": "739fa692-2405-4687-c235-eb04526a9296",
        "colab": {
          "base_uri": "https://localhost:8080/",
          "height": 34
        }
      },
      "source": [
        "# predicted values\n",
        "model.predict(X_test)"
      ],
      "execution_count": 128,
      "outputs": [
        {
          "output_type": "execute_result",
          "data": {
            "text/plain": [
              "array([3, 1, 3, ..., 9, 5, 7])"
            ]
          },
          "metadata": {
            "tags": []
          },
          "execution_count": 128
        }
      ]
    },
    {
      "cell_type": "code",
      "metadata": {
        "id": "4n8G6XuP-B88",
        "outputId": "9f2bd798-7e82-457c-c40b-2c4f0502ecb2",
        "colab": {
          "base_uri": "https://localhost:8080/",
          "height": 34
        }
      },
      "source": [
        "# Actual values\n",
        "y_test"
      ],
      "execution_count": 157,
      "outputs": [
        {
          "output_type": "execute_result",
          "data": {
            "text/plain": [
              "array([3, 1, 3, ..., 9, 5, 7])"
            ]
          },
          "metadata": {
            "tags": []
          },
          "execution_count": 157
        }
      ]
    },
    {
      "cell_type": "code",
      "metadata": {
        "id": "oQhR4P6T-GWU",
        "outputId": "44116373-e688-4e16-db11-a6e31b195ef1",
        "colab": {
          "base_uri": "https://localhost:8080/",
          "height": 34
        }
      },
      "source": [
        "print(f\"Model accuracy: {model.score(X_test,y_test) * 100:.2f}%\")"
      ],
      "execution_count": 130,
      "outputs": [
        {
          "output_type": "stream",
          "text": [
            "Model accuracy: 98.09%\n"
          ],
          "name": "stdout"
        }
      ]
    },
    {
      "cell_type": "markdown",
      "metadata": {
        "id": "G80C81agCHb9"
      },
      "source": [
        "**Well it seems our model is doing exceptionally well even the training data is only 30% ! This is because we have very small dataset!**"
      ]
    },
    {
      "cell_type": "markdown",
      "metadata": {
        "id": "YQPlDeomCrWE"
      },
      "source": [
        "**The separtion of 30% dataset as training data and 70% data as testing data is not a practical way,however, the accuracy seems preety good here but this is because we have very less data-set.**\n",
        "\n",
        "We should further analyze our model with training data, validation data and testing data.A data scientist divides up all the datasets into three subsets: the training set, the validation set, and the test set. Common ratios used are:\n",
        "\n",
        "* 70% train, 15% val, 15% test\n",
        "* 80% train, 10% val, 10% test\n",
        "* 60% train, 20% val, 20% test"
      ]
    }
  ]
}